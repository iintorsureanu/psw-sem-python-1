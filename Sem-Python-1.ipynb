{
  "metadata": {
    "kernelspec": {
      "display_name": "Python 3.6",
      "name": "python36",
      "language": "python"
    },
    "language_info": {
      "mimetype": "text/x-python",
      "nbconvert_exporter": "python",
      "name": "python",
      "pygments_lexer": "ipython3",
      "version": "3.6.6",
      "file_extension": ".py",
      "codemirror_mode": {
        "version": 3,
        "name": "ipython"
      }
    }
  },
  "nbformat_minor": 2,
  "nbformat": 4,
  "cells": [
    {
      "cell_type": "markdown",
      "source": "# Seminar Python 1\n\n## 1. Introducere in limbajul Python\nPython este un limbaj interpretat, orientat-obiect;\n\n\n* A fost inventat în 1991 de Guido van Rossum;\n* Sunt disponibile două versiuni majore: Python 2 și Python 3 (programele nu sunt direct compatibile între versiuni). Acest curs se axează pe sintaxa Python 3.\n* Python este un limbaj de programare de ultimă generaţie, uşor de învăţat, ca urmare a sintaxei simple similare cu limba engleză;\n* Necesită mai puţine linii de cod în comparaţie cu alte limbaje;\n* Python rulează pe diferite sisteme de operare: Windows, Mac, Linux, Raspberry Pi etc.;\n* Limbajul poate fi utilizat în mai multe medii (IDE): Eclipse, PyCharm, Thonny, Netbeans etc.;\n* Conţine o bibliotecă vastă de pachete (biblioteci) specializate ( de ex. data science, inteligență artificială, grafică etc.)\n* Programele Python pot accesa baze de date de diverse tipuri;\n* Citeşte şi modifică fişiere;\n* Poate gestiona volume mari de date (big data) şi efectua operaţii matematice complexe.\n\n**Instalare**\nUltima versiune Python poate fi descărcată aici: https://www.python.org/downloads/. \nPentru IDE:  \n* accesaţi: www.eclipse.org. Efectuaţi apoi setarea IDE pentru Python ca în https://www.ics.uci.edu/~pattis/common/handouts/pythoneclipsejava/eclipsepython%20neon.html (de asemenea, această versiune de Eclipse poate fi utilizată);\n* sau accesaţi: https://www.jetbrains.com/pycharm/download/#section=windows. \n\n\n**Linkuri utile:**  \nDocumentaţie:https://www.python.org/about/gettingstarted/\nhttps://www.tutorialspoint.com/python/index.htm\nhttps://www.w3schools.com/python/default.asp  \nExemple:https://www.programiz.com/python-programming/examples  \nPachete:https://pip.pypa.io/en/stable/installing/  \nRezolvări:https://stackoverflow.com  ",
      "metadata": {}
    },
    {
      "cell_type": "markdown",
      "source": "**Afișare cu funcția `print()`,** operatorul +  \nFuncția `print()` afișază una sau mai multe valori (expresii) pe ecran.  \nPentru a combina un şir de caractere cu o variabilă, utilizăm +, care are rolul de a concatena:",
      "metadata": {}
    },
    {
      "cell_type": "markdown",
      "source": "**_Selectează celulele cu instrucțiuni și apasă Shift+Enter pentru a executa codul !_**",
      "metadata": {}
    },
    {
      "cell_type": "code",
      "source": "#Exemplul 1\nx = \"Pachete Software\"\nprint(\"Seminar \" + x)",
      "metadata": {
        "collapsed": true,
        "trusted": true
      },
      "execution_count": null,
      "outputs": []
    },
    {
      "cell_type": "code",
      "source": "#Exemplul 2\nx = \"Seminar \"\ny = \"Pachete Software\"\nz =  x + y\nprint(z)",
      "metadata": {
        "trusted": true
      },
      "execution_count": null,
      "outputs": []
    },
    {
      "cell_type": "markdown",
      "source": "Pentru valori numerice, + acţionează ca operator matematic:",
      "metadata": {}
    },
    {
      "cell_type": "code",
      "source": "#Exemplul 3\nx = 5\ny = 10\nprint(x + y)",
      "metadata": {
        "trusted": true
      },
      "execution_count": null,
      "outputs": []
    },
    {
      "cell_type": "markdown",
      "source": "Însumarea unui număr cu un şir de caractere produce o eroare:",
      "metadata": {}
    },
    {
      "cell_type": "code",
      "source": "#Exemplul 4\nx = 5\ny = \"Python\"\nprint(x + y)",
      "metadata": {
        "trusted": true
      },
      "execution_count": null,
      "outputs": []
    },
    {
      "cell_type": "markdown",
      "source": "La utilizarea funcției `print()` cu mai multe argumente, valorile sunt separate cu spațiu. La final se introduce un caracter newline (\\\\n).  \nAcești delimitatori impliciți se pot schimba cu argumentele `sep` și `end`.",
      "metadata": {}
    },
    {
      "cell_type": "code",
      "source": "#Exemplul 5\nprint('Python', 'versiunea', 3.8)\nprint('A doua linie de text.')",
      "metadata": {
        "trusted": true
      },
      "execution_count": null,
      "outputs": []
    },
    {
      "cell_type": "code",
      "source": "#Exemplul 6\nprint('Python', 'versiunea', 3.8, sep='_', end='|')\nprint('A doua linie de text.')",
      "metadata": {
        "trusted": true
      },
      "execution_count": null,
      "outputs": []
    },
    {
      "cell_type": "markdown",
      "source": "## 2. Elemente de programare: tipuri de date, variabile, expresii. Operatori, liste (vectori), structuri alternative și repetitive\n### 2.1 Tipuri de date\n#### 2.1.1 Tipuri de date elementare:\n* int\n* float\n* complex\n* bool\n* str\nVariabilele Python sunt create prin atribuirea unei valori. Tipul de date al variabilei este implicit tipul valorii utilizate.  \nVariabilele nu necesită declarare (!).",
      "metadata": {}
    },
    {
      "cell_type": "code",
      "source": "#Exemplul 7\nx = 1    # int\ny = 2.8  # float\nz = 2+3j   # complex\nb = True # bool\ns = 'Python' #string",
      "metadata": {
        "trusted": true
      },
      "execution_count": null,
      "outputs": []
    },
    {
      "cell_type": "markdown",
      "source": "Pentru a verifica tipul de dată utilizăm funcția `type()`:",
      "metadata": {}
    },
    {
      "cell_type": "code",
      "source": "#Exemplul 8\nprint(type(x))\nprint(type(y))\nprint(type(z))\nprint(type(b))\nprint(type(s))",
      "metadata": {
        "trusted": true
      },
      "execution_count": null,
      "outputs": []
    },
    {
      "cell_type": "markdown",
      "source": "Tipul **`int`**  (integer) reprezintă un număr întreg, pozitiv sau negativ, fără zecimale, de lungime nelimitată.",
      "metadata": {}
    },
    {
      "cell_type": "code",
      "source": "#Exemplul 9\nx = 1\ny = 35656222554887711\nz = -3255522\nprint(type(x))\nprint(type(y))\nprint(type(z))",
      "metadata": {
        "trusted": true
      },
      "execution_count": null,
      "outputs": []
    },
    {
      "cell_type": "markdown",
      "source": "Tipul **`float`** reprezintă un număr pozitiv sau negativ, cu una sau mai multe zecimale.",
      "metadata": {}
    },
    {
      "cell_type": "code",
      "source": "#Exemplul 10\nx = 1.10\ny = 1.0\nz = -35.59\nprint(type(x))\nprint(type(y))\nprint(type(z))",
      "metadata": {
        "trusted": true
      },
      "execution_count": null,
      "outputs": []
    },
    {
      "cell_type": "code",
      "source": "#Exemplul 11\nx = 35e3\ny = 12E4\nz = -87.7e100\nprint(type(x))\nprint(type(y))\nprint(type(z)) ",
      "metadata": {
        "trusted": true
      },
      "execution_count": null,
      "outputs": []
    },
    {
      "cell_type": "markdown",
      "source": "Tipul (**`complex`**) reprezintă numere complexe; conţine \"j\" pentru partea imaginară.",
      "metadata": {}
    },
    {
      "cell_type": "code",
      "source": "#Exemplul 12\nx = 3+5j\ny = 5j\nz = -5j\nprint(type(x))\nprint(type(y))\nprint(type(z))",
      "metadata": {
        "trusted": true
      },
      "execution_count": null,
      "outputs": []
    },
    {
      "cell_type": "markdown",
      "source": "**Funcții de conversie a tipurilor de date / constructori**  \nAtunci când se doreşte conversia unei valori la un anumit tip de date, utilizăm următoarele funcții (constructori de tipuri):\n\n* `int()` – returnează o valoare int pe baza argumentului transmis, care poate fi int, float sau string. Șirul de caractere trebuie să reprezinte un număr valid, altfel se produce o eroare;\n* `float()` – similar, returnează o valoare float;  \n* `str()` – convertește alte tipuri de date (ca int, float) în șiruri de caractere;  \n* `bool()` – convertește alte tipuri de date în valori `True` sau `False` (pt. reguli vezi acest [link](https://docs.python.org/3/library/stdtypes.html#truth))",
      "metadata": {}
    },
    {
      "cell_type": "code",
      "source": "#Exemplul 13\nx = int(1)   # 1\ny = int(2.8) # 2\nz = int(\"3\") # 3\nprint(x, y, z, sep='\\n')",
      "metadata": {
        "trusted": true
      },
      "execution_count": null,
      "outputs": []
    },
    {
      "cell_type": "code",
      "source": "#Exemplul 14\nx = float(1)     # 1.0\ny = float(2.8)   # 2.8\nz = float(\"3\")   # 3.0\nw = float(\"4.2\") # 4.2\nprint(x, y, z,w, sep='\\n')",
      "metadata": {
        "trusted": true
      },
      "execution_count": null,
      "outputs": []
    },
    {
      "cell_type": "code",
      "source": "#Exemplul 15\nx = str(\"s1\") # 's1' \ny = str(2)    # '2'\nz = str(3.0)  # '3.0'\nprint(x, y, z, sep='\\n')",
      "metadata": {
        "trusted": true
      },
      "execution_count": null,
      "outputs": []
    },
    {
      "cell_type": "code",
      "source": "#Exemplul 16\nb1 = bool(22)\nb2 = bool(0)\nb3 = bool('Text')\nb4 = bool('')\nprint(b1, b2, b3, b4, sep='\\n')",
      "metadata": {
        "trusted": true
      },
      "execution_count": null,
      "outputs": []
    },
    {
      "cell_type": "markdown",
      "source": "#### 2.1.2 Șiruri de caractere și delimitatori – \"…\" sau '...'.\n\nValorile literal de tip șir de caractere se scriu între ghilimele sau apostrof. Dacă șirul conține un caracter de acest tip (de ex. apostrof), trebuie folosit celălalt delimitator (ghilimele).  \nO altă posibilitate este folosirea secvențelor escape \\\\' or \\\\\".\nApostroful triplu ''' ... ''' poate fi folosit pentru șiruri cu linii multiple.",
      "metadata": {}
    },
    {
      "cell_type": "code",
      "source": "#Exemplul 17\n#s1 = 'Jerry's Pizza' # eroare; comentați (#) linia și rulați din nou.\ns2 = \"Jerry's Pizza\"\ns3 = '\"OK\", spuse ea.'\ns4 = \"El a zis \\\"Bine\\\".\"\ns5 = '''Șirurile cu apostrof triplu pot conține ' și \",\nprecum și text pe mai multe linii.'''\nprint(s2, s3, s4, s5, sep='\\n')",
      "metadata": {
        "trusted": true
      },
      "execution_count": null,
      "outputs": []
    },
    {
      "cell_type": "markdown",
      "source": "Ca în alte limbaje de programare, şirurile de caractere în Python sunt considerate ca \"vectori de caractere\". Parantezele `[ ]` sunt utilizate pentru a accesa elementele şirului pe baza unui index (poziție) între 0 și lungimea șirului -1.  \nIndexul poate fi negativ - de ex. `sir[-1]` este ultimul caracter din șir.  \nNotația slice`[m:n]` realizează extragerea de subșiruri. Se preiau caracterele de la poziția m până la poziția n-1. Dacă m lipsește `[:n]`, subșirul pornește de la primul caracter; de asemenea, dacă n lipsește `[m:]`, subșirul se încheie cu ultimul caracter.",
      "metadata": {}
    },
    {
      "cell_type": "code",
      "source": "#Exemplul 18\na = \"Seminar Pachete Software\"\nprint(a[1])\nprint(a[4:8])\nprint(a[-1])\nprint(a[:4])\nprint(a[-7:])\nprint(a[:])\nprint(a[::2]) #notație slice cu pasul 2",
      "metadata": {
        "trusted": true
      },
      "execution_count": null,
      "outputs": []
    },
    {
      "cell_type": "markdown",
      "source": "Șirurile sunt obiecte, deci se pot apela metode pentru prelucrarea lor, în forma:  \n`var_string.metoda( arg )`  \nMetoda `strip()` elimină spaţiile de la începutul și sfârșitul șirului:",
      "metadata": {}
    },
    {
      "cell_type": "code",
      "source": "#Exemplul 19\na = \"            Seminar Pachete Software  \"\nprint(a.strip())\nprint(a)",
      "metadata": {
        "trusted": true
      },
      "execution_count": null,
      "outputs": []
    },
    {
      "cell_type": "markdown",
      "source": "Alte funcții / metode pentru șiruri:  \nFuncția `len()` returnează lungimea şirului;  \nMetoda `lower()` transformă şirul în litere mici;  \nMetoda `upper()` transformă şirul în litere mari;  \nMetoda `replace()` înlocuieşte un (sub)şir cu un alt şir;  \nMetoda `split()` împarte şirul în mai multe şiruri după un separator. ",
      "metadata": {}
    },
    {
      "cell_type": "code",
      "source": "#Exemplul 20\na = \"Seminar Pachete Software\"\nprint(len(a))\nprint(a.lower()) \nprint(a.upper())\nprint(a.replace(\" \", \"\"))\nprint(a.split(\" \")) # generează o listă de cuvinte",
      "metadata": {
        "trusted": true
      },
      "execution_count": null,
      "outputs": []
    },
    {
      "cell_type": "markdown",
      "source": "### 2.2 Variabile\nCodul Python este case-sensitive, lucru valabil și pentru numele de variabile.  \nDenumirea variabilelor trebuie să înceapă cu o literă sau underscore (nu cu o cifră) şi poate conţine numai caractere alfanumerice: de la A-Z, a-z, 0-9 şi underscore.  \nVariabilele nu se declară explicit, ci prin atribuire.",
      "metadata": {}
    },
    {
      "cell_type": "code",
      "source": "#Exemplul 21\nx = 5\ny = \"Python\"\nprint(x)\nprint(y)",
      "metadata": {
        "trusted": true
      },
      "execution_count": null,
      "outputs": []
    },
    {
      "cell_type": "markdown",
      "source": "Tipul de data al variabilei poate fi schimbat ulterior prin atribuirea unei valori de alt tip (!).",
      "metadata": {}
    },
    {
      "cell_type": "code",
      "source": "#Exemplul 22\nx = 4 # x de tip int\nprint(x, type(x))\nx = \"Python\" # x este acum de tip str\nprint(x, type(x))",
      "metadata": {
        "trusted": true
      },
      "execution_count": null,
      "outputs": []
    },
    {
      "cell_type": "markdown",
      "source": "### 2.3 Structuri de date (colecţii de date)\n#### 2.3.1 Liste\nListele sunt colecţii de date care pot fi ordonate şi modificate (eng. _mutable_). De asemenea, listele permit elemente identice. Listele sunt reprezentate utilizând [ ], iar elementele sunt separate cu virgulă.",
      "metadata": {}
    },
    {
      "cell_type": "markdown",
      "source": "Crearea şi afişarea listelor:",
      "metadata": {}
    },
    {
      "cell_type": "code",
      "source": "#Exemplul 23\nlista1 = [\"laptop\", \"creion\", \"flipchart\"]\nlista2 = [ 1, 'abc', 2.5 ]\nlista3 = [] #listă vidă\nprint(lista1)",
      "metadata": {
        "trusted": true
      },
      "execution_count": null,
      "outputs": []
    },
    {
      "cell_type": "markdown",
      "source": "Accesarea elementelor din listă se realizează prin index:",
      "metadata": {}
    },
    {
      "cell_type": "code",
      "source": "#Exemplul 24\nlista = [\"laptop\", \"creion\", \"flipchart\"]\nprint(lista[1])",
      "metadata": {
        "trusted": true
      },
      "execution_count": null,
      "outputs": []
    },
    {
      "cell_type": "markdown",
      "source": "Modificarea unui element:",
      "metadata": {}
    },
    {
      "cell_type": "code",
      "source": "#Exemplul 25\nlista[1] = \"marker\"\nprint(lista)",
      "metadata": {
        "trusted": true
      },
      "execution_count": null,
      "outputs": []
    },
    {
      "cell_type": "markdown",
      "source": "Funcție `len()` determină numărul de elemente al listei.",
      "metadata": {}
    },
    {
      "cell_type": "code",
      "source": "#Exemplul 26\n#lista = [\"laptop\", \"creion\", \"flipchart\"]\nprint(len(lista))",
      "metadata": {
        "trusted": true
      },
      "execution_count": null,
      "outputs": []
    },
    {
      "cell_type": "markdown",
      "source": "Pentru a adăuga un element în listă (la capăt), utilizăm metoda `append()`.",
      "metadata": {}
    },
    {
      "cell_type": "code",
      "source": "#Exemplul 27\n#lista = [\"laptop\", \"creion\", \"flipchart\"]\nlista.append(\"rucsac\")\nprint(lista)",
      "metadata": {
        "trusted": true
      },
      "execution_count": null,
      "outputs": []
    },
    {
      "cell_type": "markdown",
      "source": "Pentru a insera un element în listă la o anumită poziţie, utilizăm metoda `insert()`.",
      "metadata": {}
    },
    {
      "cell_type": "code",
      "source": "#Exemplul 28\n#lista = ['laptop', 'creion', 'flipchart', 'rucsac']\nlista.insert(1, \"telefon\")\nprint(lista)",
      "metadata": {
        "trusted": true
      },
      "execution_count": null,
      "outputs": []
    },
    {
      "cell_type": "markdown",
      "source": "Eliminarea unui element se realizează cu metoda `remove()`:",
      "metadata": {}
    },
    {
      "cell_type": "code",
      "source": "#Exemplul 29\n#lista = ['laptop', 'telefon', 'marker', 'flipchart', 'rucsac']\nlista.remove(\"laptop\")\nprint(lista) ",
      "metadata": {
        "trusted": true
      },
      "execution_count": null,
      "outputs": []
    },
    {
      "cell_type": "markdown",
      "source": "Metoda `pop()` elimină și returnează ultimul element, sau elementul de la indexul specificat. Împreună cu `append()` se poate utiliza pentru a implementa o structură de tip stivă (LIFO).",
      "metadata": {}
    },
    {
      "cell_type": "code",
      "source": "#Exemplul 30\n#lista = ['telefon', 'marker', 'flipchart', 'rucsac']\nprint(lista.pop())\nprint(lista)",
      "metadata": {
        "trusted": true
      },
      "execution_count": null,
      "outputs": []
    },
    {
      "cell_type": "markdown",
      "source": "Pentru ștergere se poate folosi și __instrucțiunea__ `del`:",
      "metadata": {}
    },
    {
      "cell_type": "code",
      "source": "#Exemplul 31\n#lista = ['telefon', 'marker', 'flipchart']\ndel lista[0]\nprint(lista)",
      "metadata": {
        "trusted": true
      },
      "execution_count": null,
      "outputs": []
    },
    {
      "cell_type": "markdown",
      "source": "`del` poate șterge întreaga listă:",
      "metadata": {}
    },
    {
      "cell_type": "code",
      "source": "#Exemplul 32\n#lista = [\"laptop\", \"creion\", \"flipchart\"]\ndel lista\nprint(lista) #eroare: variabila nu (mai) este definită",
      "metadata": {
        "trusted": true
      },
      "execution_count": null,
      "outputs": []
    },
    {
      "cell_type": "markdown",
      "source": "Metoda `clear()` goleşte lista:",
      "metadata": {}
    },
    {
      "cell_type": "code",
      "source": "#Exemplul 33\nlista = [\"laptop\", \"creion\", \"flipchart\"]\nlista.clear()\nprint(lista)",
      "metadata": {
        "trusted": true
      },
      "execution_count": null,
      "outputs": []
    },
    {
      "cell_type": "markdown",
      "source": "Este posibilă crearea unei liste prin intermediul constructorului `list()`, din alte tipuri de obiecte (șir, tuplu, set etc.)",
      "metadata": {}
    },
    {
      "cell_type": "code",
      "source": "#Exemplul 34\nlista = list((\"laptop\", \"creion\", \"flipchart\")) #creare listă din tuplu\nprint(lista)",
      "metadata": {
        "trusted": true
      },
      "execution_count": null,
      "outputs": []
    },
    {
      "cell_type": "markdown",
      "source": "**Metode pentru liste**\n\n|    Metoda       |    Descriere                                                 |\n|-----------------|--------------------------------------------------------------|\n|    append()     |    Adaugă un element la sfârşitul listei                     |\n|    clear()      |    Elimină toate elementele listei                           |\n|    copy()       |    Creează o copie a listei                                   |\n|    count()      |    Returnează numărul de apariţii al elementului în listă    |\n|    extend()     |    Adăugă elemente din altă listă (obiect iterabil), la sfârşitul listei.                  |\n|    index()      |    Returnează indexul primului element cu valoarea specificată                     |\n|    insert()     |    Adaugă un element la poziţia specificată                  |\n|    pop()        |    Extrage elementul de la poziţia specificată / ultimul.              |\n|    remove()     |    Elimină elementul specificat                              |\n|    reverse()    |    Inversează ordinea elementelor în listă                   |\n|    sort()       |    Sortează lista (modifică ordinea elementelor). Funcția sorted() returnează o copie sortată a listei (lista inițială nu este modificată).                                          |",
      "metadata": {}
    },
    {
      "cell_type": "code",
      "source": "#Exercițiul 0.a: Sortați lista folosind list.sort() și sorted();\n#Cum se poate schimba direcția de sortare (descrescător) ?\n#Căutați detalii în documentația online.\n\n#...scrieți instrucțiunile aici...#\n",
      "metadata": {
        "trusted": true
      },
      "execution_count": null,
      "outputs": []
    },
    {
      "cell_type": "markdown",
      "source": "#### 2.3.2 Tupluri\nTuplurile sunt colecţii de date ordonate şi nemodificabile (eng. _immutable_). Ca și listele, tuplurile permit elemente identice. Tuplurile sunt reprezentate utilizând paranteze ( ).",
      "metadata": {}
    },
    {
      "cell_type": "markdown",
      "source": "Crearea şi afişarea unui tuplu, accesarea elementelor prin index:",
      "metadata": {}
    },
    {
      "cell_type": "code",
      "source": "#Exemplul 35\ntup = (\"laptop\", \"creion\", \"flipchart\")\nprint(tup) \nprint(tup[1])",
      "metadata": {
        "trusted": true
      },
      "execution_count": null,
      "outputs": []
    },
    {
      "cell_type": "markdown",
      "source": "Modificarea unui element nu este posibilă - produce o eroare.",
      "metadata": {}
    },
    {
      "cell_type": "code",
      "source": "#Exemplul 36\ntup[1] = \"marker\" # eroare !",
      "metadata": {
        "trusted": true
      },
      "execution_count": null,
      "outputs": []
    },
    {
      "cell_type": "markdown",
      "source": "Metode pentru tupluri:\n\n|    Metoda     |    Descriere                                                 |\n|---------------|--------------------------------------------------------------|\n|    count()    |    Returnează numărul de apariţii al elementului în tuplu    |\n|    index()    |    Returnează poziţia unui element în tuplu                  |",
      "metadata": {}
    },
    {
      "cell_type": "code",
      "source": "#Exemplul 37\n#tup = (\"laptop\", \"creion\", \"flipchart\")\ntup = tup + ('creion',) #concatenare cu tuplu cu un singur element\nprint(tup)\nprint(tup.count('creion'))\nprint(tup.index('flipchart'))",
      "metadata": {
        "trusted": true
      },
      "execution_count": null,
      "outputs": []
    },
    {
      "cell_type": "markdown",
      "source": "#### 2.3.3 Seturi (mulțimi)\nSeturile sunt colecţii de date neordonate şi neindexate. Nu sunt acceptate elemente identice. Seturile sunt reprezentate prin { }. Pot fi create și cu ajutorul constructorului `set()`.\nObiectele set permit operații pe mulțimi, ca reuniunea, intersecția, diferența și diferența simetrică.",
      "metadata": {}
    },
    {
      "cell_type": "code",
      "source": "#Exemplul 38\nset1 = {\"laptop\", \"creion\", \"flipchart\"}\nprint(set1)\n\nlista1 = [2, 7, 3, 2]\nset2 = set(lista1)\nprint(set2)",
      "metadata": {
        "trusted": true
      },
      "execution_count": null,
      "outputs": []
    },
    {
      "cell_type": "markdown",
      "source": "Accesarea elementelor din set nu este posibilă, dar elementele pot fi parcurse cu instrucțiunea `for`;  existenţa unui element poate fi verificată cu operatorul `in`.\n\nNu pot fi modificate elementele unui set, însă pot fi adăugate elemente noi cu metoda `add()`.\n\n**Metode pentru seturi**\n\n|    Metoda                           |    Descriere                                                                         |\n|-------------------------------------|--------------------------------------------------------------------------------------|\n|    add()                            |    Adaugă un element                                                                 |\n|    clear()                          |    Elimină toate elementele setului                                                  |\n|    copy()                           |    Returnează o copie a setului                                                      |\n|    difference()                     |    Returnează un set reprezentând diferenţa dintre două sau mai multe seturi         |\n|    difference_update()              |    Elimină elementele dintr-un set care sunt conţinute de un alt set   specificat    |\n|    discard()                        |    Elimină un element specificat                                                     |\n|    intersection()                   |    Returnează un set reprezentând intersecţia a două seturi                          |\n|    intersection_update()            |    Elimină elementele dintr-un set care nu sunt în alt set                           |\n|    isdisjoint()                     |    Arată dacă două seturi sunt disjuncte (nu au elemente comune)                       |\n|    issubset()                       |    Arată dacă un set este inclus într-un alt set (submulțime)                           |\n|    issuperset()                     |    Arată dacă un set conţine un alt set sau nu                                       |\n|    pop()                            |    Extrage un element                                                                |\n|    remove()                         |    Elimină elementul specificat                                                      |\n|    symmetric_difference()           |    Returnează un set cu elementele necomune celor doua seturi                         |\n|    symmetric_difference_update()    |    Inserează într-un set diferenţele dintre două seturi                              |\n|    union()                          |    Returnează un set reprezentând reuniunea a două seturi                            |\n|    update()                         |    Actualizează setul cu reuniunea dintre un set şi altele                           |",
      "metadata": {}
    },
    {
      "cell_type": "code",
      "source": "#Exercițiul 0.b: creați obiecte set și utilizați câteva metode, la alegere\n\n",
      "metadata": {
        "trusted": true
      },
      "execution_count": null,
      "outputs": []
    },
    {
      "cell_type": "markdown",
      "source": "#### 2.3.4 Dicționare\nDicționarele sunt colecţii de date neordonate, modificabile şi indexate. Nu sunt admise elemente identice. Dicţionarele sunt reprezentate prin { }, și conțin perechi cheie : valoare.",
      "metadata": {}
    },
    {
      "cell_type": "markdown",
      "source": "Crearea şi afişarea unui dicţionar:",
      "metadata": {}
    },
    {
      "cell_type": "code",
      "source": "#Exemplul 39\ndict = {\"laptop\":\"IBM\", \"creion\":\"Faber Castell\", \"flipchart\":\"M3\"}\nprint(dict)",
      "metadata": {
        "trusted": true
      },
      "execution_count": null,
      "outputs": []
    },
    {
      "cell_type": "markdown",
      "source": "Accesarea elementelor din dicţionar se realizează prin cheie sau prin metoda `get()`:",
      "metadata": {}
    },
    {
      "cell_type": "code",
      "source": "#Exemplul 40\n#dict = {\"laptop\":\"IBM\", \"creion\":\"Faber Castell\", \"flipchart\":\"M3\"}\nprint(dict[\"laptop\"])\nprint(dict.get(\"laptop\"))",
      "metadata": {
        "trusted": true
      },
      "execution_count": null,
      "outputs": []
    },
    {
      "cell_type": "markdown",
      "source": "Modificarea unui element din dicţionar se realizează prin cheie:",
      "metadata": {}
    },
    {
      "cell_type": "code",
      "source": "#Exemplul 41\n#dict = {\"laptop\":\"IBM\", \"creion\":\"Faber Castell\", \"flipchart\":\"M3\"}\ndict[\"laptop\"] = \"HP\"\nprint(dict)",
      "metadata": {
        "trusted": true
      },
      "execution_count": null,
      "outputs": []
    },
    {
      "cell_type": "markdown",
      "source": "**Metode pentru dicţionare:**\n\n|    Metoda          |    Descriere                                                                            |\n|--------------------|-----------------------------------------------------------------------------------------|\n|    clear()         |    Elimină toate elementele din dicţionar                                               |\n|    copy()          |    Returnează o copie a dicţionarului                                                   |\n|    fromkeys()      |    Returnează un dicţionar cu chei valori specificate                                   |\n|    get()           |    Returnează valoarea pentru o anumită cheie, sau None pt cheie inexistentă.                    |\n|    items()         |    Returnează o listă conţinând tupluri cu  perechi (cheie,valoare)           |\n|    keys()          |    Returnează o listă conţinând cheile dicţionarului                                    |\n|    pop()           |    Extrage elementul având o anumită cheie specificată                                  |\n|    popitem()       |    Extrage arbitrar o pereche (cheie,valoare).                                        |\n|    setdefault()    |    Returnează valoarea pentru o cheie specificată. Dacă cheia nu există, o adaugă și o asociază cu valoarea specificată (sau None)   |\n|    update()        |    Actualizează dicţionarul cu perechile cheie-valoare specificate                      |\n|    values()        |    Returnează o listă cu toate valorile dicţionarului                                   |",
      "metadata": {}
    },
    {
      "cell_type": "code",
      "source": "#Exercițiul 0.c: creați un dicționar și utilizați câteva metode, la alegere.\n\n",
      "metadata": {
        "trusted": true
      },
      "execution_count": null,
      "outputs": []
    },
    {
      "cell_type": "markdown",
      "source": "### 2.4 Operatori și expresii\n\nOperatori aritmetici:\n\n|    Operator    |    Denumire                        |    Exemplu    |\n|----------------|------------------------------------|---------------|\n|    +           |    Adunare                         |    x + y      |\n|    -           |    Scădere                         |    x - y      |\n|    *           |    Înmulţire                       |    x * y      |\n|    /           |    Împărţire                       |    x / y      |\n|    \\**          |    Exponenţial                     |    x \\** y     |\n|    %           |    Restul împărţirii (modulo)      |    x % y      |\n|    //          |    Partea întreagă a împărţirii    |    x // y     |\n\nAtribuire, atribuire combinată\n\n|    Operator    |    Exemplu     |    Echivalent     |\n|----------------|----------------|-------------------|\n|    =           |    x = 5       |    x = 5          |\n|    +=          |    x += 3      |    x = x + 3      |\n|    -=          |    x -= 3      |    x = x - 3      |\n|    *=          |    x *= 3      |    x = x * 3      |\n|    /=          |    x /= 3      |    x = x / 3      |\n|    %=          |    x %= 3      |    x = x % 3      |\n|    //=         |    x //= 3     |    x = x // 3     |\n|    **=         |    x **= 3     |    x = x ** 3     |\n\nComparaţie \n\n|    Operator    |    Denumire             |    Exemplu    |\n|----------------|-------------------------|---------------|\n|    ==          |    Egal                 |    x == y     |\n|    !=          |    Diferit              |    x != y     |\n|    >           |    Mai mare             |    x > y      |\n|    <           |    Mai mic              |    x < y      |\n|    >=          |    Mai mare sau egal    |    x >= y     |\n|    <=          |    Mai mic sau egal     |    x <= y     |\n\nOperatori logici\n\n|    Operator    |    Descriere                                                                         |    Exemplu                   |\n|----------------|--------------------------------------------------------------------------------------|------------------------------|\n|    and         |    Returnează True dacă ambele expresii sunt adevărate                               |    x < 5 and  x < 10         |\n|    or          |    Returnează True dacă cel puţin o expresie este adevărată                          |    x < 5 or x < 4            |\n|    not         |    Negaţia, inversează rezultatul, returnând False dacă rezultatul este adevărat    |    not(x < 5 and x < 10)     |\n\nIdentitate\n\n|    Operator    |    Descriere                                                        |    Exemplu      |\n|----------------|---------------------------------------------------------------------|-----------------|\n|    is          |    Returnează True dacă ambele variabile sunt acelaşi obiect        |    x is y       |\n|    isnot       |    Returnează True dacă ambele variabile nu sunt acelaşi obiect     |    x isnot y    |\n\nApartenenţă \n\n|    Operator    |    Descriere                                                                                 |    Exemplu       |\n|----------------|----------------------------------------------------------------------------------------------|------------------|\n|    in          |    Returnează True dacă o secvenţă cu o valoare specificată este prezentă   în obiect        |    x in y        |\n|    not in      |    Returnează True dacă o secvenţă cu o valoare specificată nu este   prezentă în obiect     |    x not in y    |",
      "metadata": {}
    },
    {
      "cell_type": "markdown",
      "source": "### 2.5 Structuri de programare\n\nÎn Python _indentarea este esenţială_, fiind utilizată pentru a delimita un bloc de cod.\n\n#### 2.5.1 Structura alternativă (condiționată) - **`if`**",
      "metadata": {}
    },
    {
      "cell_type": "code",
      "source": "#Exemplul 42\nx=-100\n#x = int(input (\"Introduceți un număr: \"))\nif x<0:\n    print('x este negativ')\nelif x==0:\n    print('x este zero')\nelse:\n    print('x este pozitiv')",
      "metadata": {
        "trusted": true
      },
      "execution_count": null,
      "outputs": []
    },
    {
      "cell_type": "markdown",
      "source": "Erorile de indentare pot modifica logica programului sau pot cauza chiar erori de sintaxă !",
      "metadata": {}
    },
    {
      "cell_type": "code",
      "source": "#Exemplul 43\na = 1\nb = 3\nif a<b:\nprint('a is lower than b') # eroare indentare",
      "metadata": {
        "trusted": true
      },
      "execution_count": null,
      "outputs": []
    },
    {
      "cell_type": "markdown",
      "source": "#### 2.5.2 Structuri repetitive\n**Structura `for`:**",
      "metadata": {}
    },
    {
      "cell_type": "code",
      "source": "#Exemplul 44\nlista = [\"laptop\", \"creion\", \"flipchart\"]\nfor elem in lista:\n    print (elem)",
      "metadata": {
        "trusted": true
      },
      "execution_count": null,
      "outputs": []
    },
    {
      "cell_type": "code",
      "source": "#Exemplul 45\n#lista = [\"laptop\", \"creion\", \"flipchart\"]\nfor cuv in lista:\n    print (cuv[0], len(cuv))",
      "metadata": {
        "trusted": true
      },
      "execution_count": null,
      "outputs": []
    },
    {
      "cell_type": "markdown",
      "source": "Instrucțiunea `break` întrerupe (termină) structura repetitivă:",
      "metadata": {}
    },
    {
      "cell_type": "code",
      "source": "#Exemplul 46\nlista = [\"laptop\", \"creion\", \"flipchart\"]\nfor x in lista:\n    print(x)\n    if x == \"creion\":\n        break",
      "metadata": {
        "trusted": true
      },
      "execution_count": null,
      "outputs": []
    },
    {
      "cell_type": "code",
      "source": "#Exemplul 47\n#lista = [\"laptop\", \"creion\", \"flipchart\"]\nfor x in lista:\n    if x == \"creion\":\n        break\n    print(x)",
      "metadata": {
        "trusted": true
      },
      "execution_count": null,
      "outputs": []
    },
    {
      "cell_type": "markdown",
      "source": "Instrucțiunea `continue` întrerupe iterația curentă și trece la următoarea iterație.",
      "metadata": {}
    },
    {
      "cell_type": "code",
      "source": "#Exemplul 48\n#lista = [\"laptop\", \"creion\", \"flipchart\"]\nfor x in lista:\n    if x == \"creion\":\n        continue\n    print(x)",
      "metadata": {
        "trusted": true
      },
      "execution_count": null,
      "outputs": []
    },
    {
      "cell_type": "markdown",
      "source": "Funcţia `range()` returnează o secvenţă de numere care poate fi folosită pentru iterare cu `for`.  \nObservați cum sunt generate secvențele:",
      "metadata": {}
    },
    {
      "cell_type": "code",
      "source": "#Exemplul 49\nfor x in range(6):\n    print(x, end=' ')\nprint()\n\nfor x in range(2, 6):\n    print(x, end=' ')\nprint()\n\nfor x in range(2, 30, 3):\n    print(x, end=' ')\nprint()",
      "metadata": {
        "trusted": true
      },
      "execution_count": null,
      "outputs": []
    },
    {
      "cell_type": "markdown",
      "source": "Crearea de liste bazate pe `range()`:",
      "metadata": {}
    },
    {
      "cell_type": "code",
      "source": "#Exemplul 50\nprint(list(range(6))) \nprint(list(range(2, 6))) \nprint(list(range(2, 30, 3)))",
      "metadata": {
        "trusted": true
      },
      "execution_count": null,
      "outputs": []
    },
    {
      "cell_type": "markdown",
      "source": "Clauza opțională `else` clause se execută după încheierea iterațiilor din `for`.",
      "metadata": {}
    },
    {
      "cell_type": "code",
      "source": "#Exemplul 51\nfor x in range(6):\n    print(x)\nelse:\n    print(\"Program ended.\")",
      "metadata": {
        "trusted": true
      },
      "execution_count": null,
      "outputs": []
    },
    {
      "cell_type": "markdown",
      "source": "Struct. repetitivă imbricată (nested loop):",
      "metadata": {}
    },
    {
      "cell_type": "code",
      "source": "#Exemplul 52\nlista = [\"laptop\", \"creion\", \"flipchart\"]\nculori = [\"roșu\", \"galben\", \"verde\"]\nfor x in lista:\n    if x =='creion' or x =='flipchart':\n        for y in culori:\n            print(x, y)",
      "metadata": {
        "trusted": true
      },
      "execution_count": null,
      "outputs": []
    },
    {
      "cell_type": "markdown",
      "source": "**Structura `while`:**",
      "metadata": {}
    },
    {
      "cell_type": "code",
      "source": "#Exemplul 53\ni = 1\nwhile i < 6:\n    print(i)\n    i += 1",
      "metadata": {
        "trusted": true
      },
      "execution_count": null,
      "outputs": []
    },
    {
      "cell_type": "markdown",
      "source": "`break` și `continue` pot fi utilizate ca la instr. `for`.",
      "metadata": {}
    },
    {
      "cell_type": "code",
      "source": "#Exemplul 54\ni = 1\nwhile i < 6:\n    print(i)\n    if i == 3:\n        break\n    i += 1",
      "metadata": {
        "trusted": true
      },
      "execution_count": null,
      "outputs": []
    },
    {
      "cell_type": "code",
      "source": "#Exemplul 55\ni = 0\nwhile i < 6:\n    i += 1 \n    if i == 3:\n        continue\n    print(i)",
      "metadata": {
        "trusted": true
      },
      "execution_count": null,
      "outputs": []
    },
    {
      "cell_type": "markdown",
      "source": "## 3. Funcții\n\nFuncțiile sunt subprograme care primesc argumente (parametri) și returnează o valoare.  \nFuncțiile pot fi apelate independent sau în expresii:  \n`var = nume_func( arg1, arg2, ...)`  \nValoarea returnată poate fi ignorată:  \n`nume_func( arg1, arg2, ...)`\n\nArgumentele funcției pot fi poziționale sau numite (keyword arguments).\nArgumentele poziționale trebuie specificate în ordinea stabilită prin definiția funcției.  \nArgumentele numite pot fi specificate în orice ordine, dar **după** argumentele poziționale:  \n`nume_func(arg1, arg2, kwarg1=val1, kwarg2=val2)`\n\nÎn funcție de locul unde sunt definite, funcțiile Python pot fi:\n\n* **Funcții proprii limbajului (_built-in_)**: fac parte din limbajul standard și sunt direct accesibile.  Exemple: `print(), input(), len()`.  \n* **Funcții definite în module.** Pentru a fi accesate este necesară importarea modulului.\n* **Funcții definite de utilizator** folosind instrucțiunea `def`. Dintre acestea, funcțiile lambda sunt un caz special (cuvântul-cheie `lambda`).\n\n### 3.1. Funcții built-in\nCîteva funcții uzuale, pe categorii:\n* I/O: `input(), print()`\n* Conversii de tip de date / constructori: `int(), float(), bool(), str(), list(), dict(), tuple(), set()`\n* Funcții matematice: `abs(), pow(), round(), bin(), oct(), hex()`\n* Funcții de prelucrare liste (iterabile): `len(), max(), min(), sum(), sorted(), reversed()`\n* Fișiere: `open()`\n* Caractere: `chr(), ord()`\n* Diverse: `type(), help(), dir()`\nLista tuturor funcțiilor built-in se găsește [aici](https://docs.python.org/3/library/functions.html#built-in-funcs).\n\nIntroducere de la tastatură   \nFuncția `input()` este utilizată pentru a prelua date de la tastatură. Returnează un șir de caractere. Valorile numerice trebuiesc convertite conform tipului (`int, float` etc.).",
      "metadata": {}
    },
    {
      "cell_type": "code",
      "source": "#Exemplul 56\nnume = input(\"Cum te numești ?\")\nprint (\"Salut,\", nume, \"!\")",
      "metadata": {
        "trusted": true
      },
      "execution_count": null,
      "outputs": []
    },
    {
      "cell_type": "code",
      "source": "#Exemplul 57\nx=int(input('Introduceți un număr:'))\nif x>0:\n    print(x,'este pozitiv.')\nelse:\n    print(x,'este negativ sau zero.')",
      "metadata": {
        "trusted": true
      },
      "execution_count": null,
      "outputs": []
    },
    {
      "cell_type": "markdown",
      "source": "### 3.2 Funcții definite în module (biblioteci)\n\nExistă o gamă largă de module disponibile pentru diverse scopuri.  \nO parte dintre ele aparțin **bibliotecii standard Python** și sunt documentate în [Python Library Reference](https://docs.python.org/3/library/index.html). \nPe lângă acestea, există numeroase module și pachete (_packages_) disponibile în [Python Package Index](https://pypi.org/) (vezi și [lista modulelor după scopul de utilizare](https://wiki.python.org/moin/UsefulModules)).\n\nPentru a putea folosi elementele din module (funcții, variabile, clase etc.), modulul respectiv sau componente ale sale trebuie **importate**.",
      "metadata": {}
    },
    {
      "cell_type": "markdown",
      "source": "Importul unui modul în ansamblul său:",
      "metadata": {}
    },
    {
      "cell_type": "code",
      "source": "#Exemplul 58\nimport math             #import modul;\n\nprint(math.sqrt(25))    #numele utilizate trebuie calificate,\n                        #de ex. modul.functie()\nprint(math.pi)",
      "metadata": {
        "trusted": true
      },
      "execution_count": null,
      "outputs": []
    },
    {
      "cell_type": "markdown",
      "source": "Importul anumitor elemente dintr-un modul:",
      "metadata": {}
    },
    {
      "cell_type": "code",
      "source": "#Exemplul 59\nfrom math import pi, sin, cos        #import elemente;\nprint(sin(pi/2), round(cos(pi/2),2)) #nu e necesară calificarea !",
      "metadata": {
        "trusted": true
      },
      "execution_count": null,
      "outputs": []
    },
    {
      "cell_type": "markdown",
      "source": "În instrucțiunea `import` se pot defini aliasuri pentru module:",
      "metadata": {}
    },
    {
      "cell_type": "code",
      "source": "#Exemplul 60\nimport math as m, platform as p\nprint(round(m.pi, 5))\nprint(p.platform())",
      "metadata": {
        "trusted": true
      },
      "execution_count": null,
      "outputs": []
    },
    {
      "cell_type": "markdown",
      "source": "Funcția built-in `dir()` afișază numele definite în modul.",
      "metadata": {}
    },
    {
      "cell_type": "code",
      "source": "#Exemplul 61\nimport math\ndir(math)",
      "metadata": {
        "trusted": true
      },
      "execution_count": null,
      "outputs": []
    },
    {
      "cell_type": "markdown",
      "source": "### 3.3 Funcții definite de utilizator\n\nFuncțiile se definesc cu instrucțiunea `def`, urmată de numele funcției și lista argumentelor, apoi caracterul `':'`. Corpul funcției este indentat.  \nPentru returnarea unei valori se folosește instrucțiunea `return`. În lipsa acesteia, funcția returnează implicit valoarea `None`.  \nDocumentația mai detaliată privind definirea funcțiilor este disponibilă [aici](https://docs.python.org/3/tutorial/controlflow.html#defining-functions).",
      "metadata": {}
    },
    {
      "cell_type": "code",
      "source": "#Exemplul 62\ndef func1(x): #definire funcție\n    rez = x**2\n    print (rez)\n    return rez\n\n#apelare funcție - corectați eroarea !\nfunc1()",
      "metadata": {
        "trusted": true
      },
      "execution_count": null,
      "outputs": []
    },
    {
      "cell_type": "markdown",
      "source": "Argument cu valoare implicită 100:",
      "metadata": {}
    },
    {
      "cell_type": "code",
      "source": "#Exemplul 63\ndef func2(x=100):\n    rez = x**2\n    print (rez)\n    return rez\n\nfunc2()\ny=func2(5)\nprint(y)",
      "metadata": {
        "trusted": true
      },
      "execution_count": null,
      "outputs": []
    },
    {
      "cell_type": "code",
      "source": "#Exemplul 64\ndef func3(x,n):\n    rez = x**n\n    return rez\n\nprint(func3(4,3))",
      "metadata": {
        "trusted": true
      },
      "execution_count": null,
      "outputs": []
    },
    {
      "cell_type": "markdown",
      "source": "Definirea unei funcții recursive:",
      "metadata": {}
    },
    {
      "cell_type": "code",
      "source": "#Exemplul 65\ndef func_rec(k):\n    if(k>0):\n        rez = k + func_rec(k-1)\n        print(rez)\n    else:\n        rez = 0\n    return rez\n\nprint(\"Apel funcție recursivă:\")\nfunc_rec(6)",
      "metadata": {
        "trusted": true
      },
      "execution_count": null,
      "outputs": []
    },
    {
      "cell_type": "markdown",
      "source": "### 3.4 Funcții Lambda\nO funcţia lambda este o funcţie simplă, anonimă poate avea mai mulţi parametri şi o expresie, returnând rezultatul expresiei.",
      "metadata": {}
    },
    {
      "cell_type": "code",
      "source": "#Exemplul 66\nx = lambda a : a + 10\nprint(x(5))",
      "metadata": {
        "trusted": true
      },
      "execution_count": null,
      "outputs": []
    },
    {
      "cell_type": "code",
      "source": "#Exemplul 67\nx = lambda a, b : a * b\nprint(x(5, 6))",
      "metadata": {
        "trusted": true
      },
      "execution_count": null,
      "outputs": []
    },
    {
      "cell_type": "code",
      "source": "#Exemplul 68\nx = lambda a, b, c : a + b + c\nprint(x(5, 6, 2)) ",
      "metadata": {
        "trusted": true
      },
      "execution_count": null,
      "outputs": []
    },
    {
      "cell_type": "markdown",
      "source": "## Exerciţii\n\n1) În programul următor, completați expresiile pentru a calcula ora de încheiere a unei activități. Se dă ora de începere (hh - ora, mm - minute) și durata activității  în minute.\n\n**Obs.:** în codul de mai jos, metoda `str.format()`  este utilizată pentru formatarea valorilor numerice în format hh:mm (de ex. 09:35, 11:05). [Vezi detalii în documentație](https://docs.python.org/3/tutorial/inputoutput.html#the-string-format-method).",
      "metadata": {}
    },
    {
      "cell_type": "code",
      "source": "hh = 9 #ora de începere; testează și cu hh=23\nmm = 35\nd = 90 # durata (minute)\n\nmm2 =   #scrie o expresie pentru ora de încheiere (minute)\nhh2 =   #scrie o expresie pentru ora de încheiere (ora)\n\nprint('Activitatea începe la: {:02d}:{:02d} și durează {} minute.'.format(hh,mm,d))\nprint('Activitatea se încheie la: {:02d}:{:02d}.'.format(hh2,mm2))",
      "metadata": {
        "trusted": true
      },
      "execution_count": null,
      "outputs": []
    },
    {
      "cell_type": "markdown",
      "source": "2) Să se citească un număr n < 10, să se creeze o listă de numere întregi, cu dimensiunea n şi să se adauge elementele citite de la tastatură. Să se ordoneze crescător elementele listei şi să se afişeze lista.",
      "metadata": {}
    },
    {
      "cell_type": "code",
      "source": "#Scrie codul aici:\n",
      "metadata": {
        "trusted": true
      },
      "execution_count": null,
      "outputs": []
    },
    {
      "cell_type": "markdown",
      "source": "3) Să se creeze o listă de 5 elemente cu denumirile unor oraşe. Să se afişeze lista ordonată descrescător după lungimea șirului, utilizând opţiunile metodei 'sort()' - o funcție ce returnează lungimea șirului utilizată ca cheie de sortare.  \nSă se afișeze lista sortată.\n\n_Documentație list.sort():  \nlist.sort(reverse=True|False, key=myFunc)   \nreverse Optional. reverse=True will sort the list descending. Default is reverse=False  \nkey Optional. A function to specify the sorting criteria(s)_",
      "metadata": {}
    },
    {
      "cell_type": "code",
      "source": "help(list.sort)\n\n#Scrie codul aici:",
      "metadata": {
        "trusted": true
      },
      "execution_count": null,
      "outputs": []
    },
    {
      "cell_type": "markdown",
      "source": "4) Să se creeze o listă de liste cu denumiri de echipamente IT, preţul şi cantitatea acestora. Calculaţi valoarea fiecărui echipament, adăugaţi-o în listă şi sortaţi în funcţie de valoare. (sugestie: folosiți metoda `list.sort()` și o funcție lambda ca cheie de sortare).",
      "metadata": {}
    },
    {
      "cell_type": "code",
      "source": "#Scrie codul aici:\n",
      "metadata": {
        "trusted": true
      },
      "execution_count": null,
      "outputs": []
    },
    {
      "cell_type": "markdown",
      "source": "5) Să se creeze două liste: lista_angajati cu numele şi prenumele angajaţilor şi lista_clienti cu numele şi prenumele clienţilor.  \na. Să se afişeze numele angajaților care sunt şi clienți.  \nb. Rezolvați tema folosind seturi și operații specifice acestora.",
      "metadata": {}
    },
    {
      "cell_type": "code",
      "source": "#Scrie codul aici:\n",
      "metadata": {
        "trusted": true
      },
      "execution_count": null,
      "outputs": []
    },
    {
      "cell_type": "markdown",
      "source": "6) Să se creeze o listă de dicţionare cu următoarele chei: id, nume şi salariu pentru următorii angajaţi: Popescu, Ionescu, Vasilescu.  \nDacă angajaţii au salariul mai mic decât 5000, să se majoreze salariul cu 10%.",
      "metadata": {}
    },
    {
      "cell_type": "code",
      "source": "#Scrie codul aici:\n",
      "metadata": {
        "trusted": true
      },
      "execution_count": null,
      "outputs": []
    }
  ]
}